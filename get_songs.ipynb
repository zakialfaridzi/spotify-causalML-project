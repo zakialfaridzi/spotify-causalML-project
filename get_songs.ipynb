{
 "cells": [
  {
   "cell_type": "code",
   "execution_count": 5,
   "metadata": {},
   "outputs": [],
   "source": [
    "import spotipy\n",
    "from spotipy.oauth2 import SpotifyClientCredentials\n",
    "import spotipy.util as util\n",
    "from dotenv import load_dotenv\n",
    "import os\n",
    "import pandas as pd\n",
    "import config\n",
    "import time\n",
    "\n",
    "load_dotenv()\n",
    "\n",
    "SPOTIPY_CLIENT_ID = os.getenv('SPOTIPY_CLIENT_ID')\n",
    "SPOTIPY_CLIENT_SECRET = os.getenv('SPOTIPY_CLIENT_SECRET')\n",
    "SPOTIPY_REDIRECT_URI = os.getenv('SPOTIPY_REDIRECT_URI')\n",
    "\n",
    "\n",
    "auth_manager = SpotifyClientCredentials()\n",
    "sp = spotipy.Spotify(auth_manager=auth_manager)"
   ]
  },
  {
   "cell_type": "markdown",
   "metadata": {},
   "source": [
    "## Collect all songs released by the top artists\n",
    "After collecting data for all artists, Spotipy was used to collect all Spotify songs for each artist. The following function collects data on all songs released by a given artist. Note that the maximum number of records in a specific query is 1000."
   ]
  },
  {
   "cell_type": "code",
   "execution_count": 6,
   "metadata": {},
   "outputs": [],
   "source": [
    "def get_songs(sp, artist):\n",
    "    counter = 0\n",
    "    \n",
    "    # empty list to store data\n",
    "    song_id = []\n",
    "    song_name = []\n",
    "    artist_id = []\n",
    "    artist_name = []\n",
    "    release_date = []\n",
    "    song_popularity = []\n",
    "\n",
    "    # keep executing api calls until the offset parameter reaches 1000\n",
    "    while counter < 1000:\n",
    "        # call api\n",
    "\n",
    "        results = sp.search(q = f\"artist:{artist}\", type = \"track\", limit = 50, offset = 0)\n",
    "        for idx, song in enumerate(results['tracks']['items']):\n",
    "            try:\n",
    "                if song['artists'][0]['name'] == artist:\n",
    "                    song_id.append(song['id'])\n",
    "                    song_name.append(song['name'])\n",
    "                    artist_id.append(song['artists'][0]['id'])\n",
    "                    artist_name.append(song['artists'][0]['name'])\n",
    "                    release_date.append(song['album']['release_date'])\n",
    "                    song_popularity.append(song['popularity'])\n",
    "            except Exception as e:\n",
    "                print(e)\n",
    "        \n",
    "        counter += 50\n",
    "    \n",
    "    songs_df = pd.DataFrame()\n",
    "    songs_df['song_id'] = song_id\n",
    "    songs_df['song_name'] = song_name\n",
    "    songs_df['artist_id'] = artist_id\n",
    "    songs_df['artist_name'] = artist_name\n",
    "    songs_df['release_date'] = release_date\n",
    "    songs_df['song_popularity'] = song_popularity\n",
    "    \n",
    "    return songs_df"
   ]
  },
  {
   "cell_type": "code",
   "execution_count": null,
   "metadata": {},
   "outputs": [],
   "source": [
    "# print(type(sp))\n",
    "artists = pd.read_excel('./data/artists.xlsx')\n",
    "artists = list(artists['artist'])\n",
    "# print(artists)\n",
    "df = pd.DataFrame()\n",
    "\n",
    "for idx, artist in enumerate(artists):\n",
    "    df_artist = get_songs(sp, artist)\n",
    "        \n",
    "    if idx == 0:\n",
    "        df = df_artist\n",
    "    else:\n",
    "        df = pd.concat([df, df_artist])\n",
    "    time.sleep(3)\n",
    "df.to_excel('./data/songs.xlsx', index = False)\n",
    "df"
   ]
  }
 ],
 "metadata": {
  "kernelspec": {
   "display_name": "Python 3",
   "language": "python",
   "name": "python3"
  },
  "language_info": {
   "codemirror_mode": {
    "name": "ipython",
    "version": 3
   },
   "file_extension": ".py",
   "mimetype": "text/x-python",
   "name": "python",
   "nbconvert_exporter": "python",
   "pygments_lexer": "ipython3",
   "version": "3.11.5"
  },
  "orig_nbformat": 4
 },
 "nbformat": 4,
 "nbformat_minor": 2
}
