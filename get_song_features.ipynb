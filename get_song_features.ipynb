{
 "cells": [
  {
   "cell_type": "code",
   "execution_count": 34,
   "metadata": {},
   "outputs": [],
   "source": [
    "import spotipy\n",
    "from spotipy.oauth2 import SpotifyClientCredentials\n",
    "import spotipy.util as util\n",
    "from dotenv import load_dotenv\n",
    "import os\n",
    "import pandas as pd\n",
    "import config\n",
    "import time\n",
    "\n",
    "load_dotenv()\n",
    "\n",
    "SPOTIPY_CLIENT_ID = os.getenv('SPOTIPY_CLIENT_ID')\n",
    "SPOTIPY_CLIENT_SECRET = os.getenv('SPOTIPY_CLIENT_SECRET')\n",
    "SPOTIPY_REDIRECT_URI = os.getenv('SPOTIPY_REDIRECT_URI')\n",
    "\n",
    "\n",
    "auth_manager = SpotifyClientCredentials()\n",
    "sp = spotipy.Spotify(auth_manager=auth_manager)"
   ]
  },
  {
   "cell_type": "markdown",
   "metadata": {},
   "source": [
    "## Collect all song feature data for all songs of top artists\n",
    "Spotipy is used to collect all song data for the songs collected in the previous step. The following function collects song data for the given song (each song is identified by a song id)."
   ]
  },
  {
   "cell_type": "code",
   "execution_count": 35,
   "metadata": {},
   "outputs": [],
   "source": [
    "def get_song_features(song_id):\n",
    "    \"\"\"obtain song feature data for the given song\"\"\"\n",
    "    try: \n",
    "        audio = sp.audio_features(song_id)[0]\n",
    "        return audio\n",
    "    except:\n",
    "        return float('NaN')"
   ]
  },
  {
   "cell_type": "code",
   "execution_count": 36,
   "metadata": {},
   "outputs": [
    {
     "data": {
      "text/plain": [
       "{'danceability': 0.386,\n",
       " 'energy': 0.416,\n",
       " 'key': 4,\n",
       " 'loudness': -10.543,\n",
       " 'mode': 1,\n",
       " 'speechiness': 0.0306,\n",
       " 'acousticness': 0.766,\n",
       " 'instrumentalness': 1.07e-05,\n",
       " 'liveness': 0.119,\n",
       " 'valence': 0.345,\n",
       " 'tempo': 122.536,\n",
       " 'type': 'audio_features',\n",
       " 'id': '1HpR1ZX6sf6cQbKxSl7vF6',\n",
       " 'uri': 'spotify:track:1HpR1ZX6sf6cQbKxSl7vF6',\n",
       " 'track_href': 'https://api.spotify.com/v1/tracks/1HpR1ZX6sf6cQbKxSl7vF6',\n",
       " 'analysis_url': 'https://api.spotify.com/v1/audio-analysis/1HpR1ZX6sf6cQbKxSl7vF6',\n",
       " 'duration_ms': 220250,\n",
       " 'time_signature': 4}"
      ]
     },
     "execution_count": 36,
     "metadata": {},
     "output_type": "execute_result"
    }
   ],
   "source": [
    "get_song_features('1HpR1ZX6sf6cQbKxSl7vF6')"
   ]
  },
  {
   "cell_type": "code",
   "execution_count": 37,
   "metadata": {},
   "outputs": [],
   "source": [
    "songs_df = pd.read_excel('./data/songs.xlsx')\n",
    "artists = pd.read_excel('./data/artists.xlsx')\n",
    "artists = list(artists['artist'])"
   ]
  },
  {
   "cell_type": "code",
   "execution_count": 38,
   "metadata": {},
   "outputs": [],
   "source": [
    "songs_ids = list(songs_df['song_id'].unique())\n",
    "songs_lists = [songs_ids[i:i + 100] for i in range(0, len(songs_ids), 100)]"
   ]
  },
  {
   "cell_type": "code",
   "execution_count": 39,
   "metadata": {},
   "outputs": [
    {
     "data": {
      "text/html": [
       "<div>\n",
       "<style scoped>\n",
       "    .dataframe tbody tr th:only-of-type {\n",
       "        vertical-align: middle;\n",
       "    }\n",
       "\n",
       "    .dataframe tbody tr th {\n",
       "        vertical-align: top;\n",
       "    }\n",
       "\n",
       "    .dataframe thead th {\n",
       "        text-align: right;\n",
       "    }\n",
       "</style>\n",
       "<table border=\"1\" class=\"dataframe\">\n",
       "  <thead>\n",
       "    <tr style=\"text-align: right;\">\n",
       "      <th></th>\n",
       "      <th>song_id</th>\n",
       "      <th>audio_features</th>\n",
       "    </tr>\n",
       "  </thead>\n",
       "  <tbody>\n",
       "    <tr>\n",
       "      <th>0</th>\n",
       "      <td>5y7o08Grl3WRSy9uyUToM0</td>\n",
       "      <td>{'danceability': 0.472, 'energy': 0.283, 'key'...</td>\n",
       "    </tr>\n",
       "    <tr>\n",
       "      <th>1</th>\n",
       "      <td>1HpR1ZX6sf6cQbKxSl7vF6</td>\n",
       "      <td>{'danceability': 0.386, 'energy': 0.416, 'key'...</td>\n",
       "    </tr>\n",
       "    <tr>\n",
       "      <th>2</th>\n",
       "      <td>3nHxZEe1dT7zs73DG6pNll</td>\n",
       "      <td>{'danceability': 0.461, 'energy': 0.36, 'key':...</td>\n",
       "    </tr>\n",
       "    <tr>\n",
       "      <th>3</th>\n",
       "      <td>53fKDMfQhWMSw7QKVDOTBP</td>\n",
       "      <td>{'danceability': 0.516, 'energy': 0.338, 'key'...</td>\n",
       "    </tr>\n",
       "    <tr>\n",
       "      <th>4</th>\n",
       "      <td>3Ysf0Y3iu23mrDsVh1mdu0</td>\n",
       "      <td>{'danceability': 0.386, 'energy': 0.416, 'key'...</td>\n",
       "    </tr>\n",
       "    <tr>\n",
       "      <th>...</th>\n",
       "      <td>...</td>\n",
       "      <td>...</td>\n",
       "    </tr>\n",
       "    <tr>\n",
       "      <th>23</th>\n",
       "      <td>0teuIhlNd6Wxm1lFWkfm9J</td>\n",
       "      <td>{'danceability': 0.505, 'energy': 0.721, 'key'...</td>\n",
       "    </tr>\n",
       "    <tr>\n",
       "      <th>24</th>\n",
       "      <td>2a49aqOHDWxsdbNjmTVdF3</td>\n",
       "      <td>{'danceability': 0.388, 'energy': 0.746, 'key'...</td>\n",
       "    </tr>\n",
       "    <tr>\n",
       "      <th>25</th>\n",
       "      <td>0X92Y5xehewiMZyFTzMecP</td>\n",
       "      <td>{'danceability': 0.401, 'energy': 0.651, 'key'...</td>\n",
       "    </tr>\n",
       "    <tr>\n",
       "      <th>26</th>\n",
       "      <td>6vqPXMmtwipyeg4pkdQ2S1</td>\n",
       "      <td>{'danceability': 0.462, 'energy': 0.58, 'key':...</td>\n",
       "    </tr>\n",
       "    <tr>\n",
       "      <th>27</th>\n",
       "      <td>7hsdFQZXXqH2qKUSMPGJlY</td>\n",
       "      <td>{'danceability': 0.286, 'energy': 0.882, 'key'...</td>\n",
       "    </tr>\n",
       "  </tbody>\n",
       "</table>\n",
       "<p>828 rows × 2 columns</p>\n",
       "</div>"
      ],
      "text/plain": [
       "                   song_id                                     audio_features\n",
       "0   5y7o08Grl3WRSy9uyUToM0  {'danceability': 0.472, 'energy': 0.283, 'key'...\n",
       "1   1HpR1ZX6sf6cQbKxSl7vF6  {'danceability': 0.386, 'energy': 0.416, 'key'...\n",
       "2   3nHxZEe1dT7zs73DG6pNll  {'danceability': 0.461, 'energy': 0.36, 'key':...\n",
       "3   53fKDMfQhWMSw7QKVDOTBP  {'danceability': 0.516, 'energy': 0.338, 'key'...\n",
       "4   3Ysf0Y3iu23mrDsVh1mdu0  {'danceability': 0.386, 'energy': 0.416, 'key'...\n",
       "..                     ...                                                ...\n",
       "23  0teuIhlNd6Wxm1lFWkfm9J  {'danceability': 0.505, 'energy': 0.721, 'key'...\n",
       "24  2a49aqOHDWxsdbNjmTVdF3  {'danceability': 0.388, 'energy': 0.746, 'key'...\n",
       "25  0X92Y5xehewiMZyFTzMecP  {'danceability': 0.401, 'energy': 0.651, 'key'...\n",
       "26  6vqPXMmtwipyeg4pkdQ2S1  {'danceability': 0.462, 'energy': 0.58, 'key':...\n",
       "27  7hsdFQZXXqH2qKUSMPGJlY  {'danceability': 0.286, 'energy': 0.882, 'key'...\n",
       "\n",
       "[828 rows x 2 columns]"
      ]
     },
     "execution_count": 39,
     "metadata": {},
     "output_type": "execute_result"
    }
   ],
   "source": [
    "audio_features_df = pd.DataFrame()\n",
    "\n",
    "for songs_list in songs_lists:\n",
    "    # print(songs_list)\n",
    "    subset = pd.DataFrame()\n",
    "    audio_features = sp.audio_features(songs_list)\n",
    "    subset['song_id'] = songs_list\n",
    "    subset['audio_features'] = audio_features\n",
    "\n",
    "    audio_features_df = pd.concat([audio_features_df, subset])\n",
    "    if len(audio_features_df)%100000 == 0:\n",
    "            print(f'{len(audio_features_df)} records collected')\n",
    "\n",
    "audio_features_df"
   ]
  },
  {
   "cell_type": "code",
   "execution_count": 40,
   "metadata": {},
   "outputs": [
    {
     "data": {
      "text/plain": [
       "0     {'external_urls': {'spotify': 'https://open.sp...\n",
       "1     {'external_urls': {'spotify': 'https://open.sp...\n",
       "2     {'external_urls': {'spotify': 'https://open.sp...\n",
       "3     {'external_urls': {'spotify': 'https://open.sp...\n",
       "4     {'external_urls': {'spotify': 'https://open.sp...\n",
       "5     {'external_urls': {'spotify': 'https://open.sp...\n",
       "6     {'external_urls': {'spotify': 'https://open.sp...\n",
       "7     {'external_urls': {'spotify': 'https://open.sp...\n",
       "8     {'external_urls': {'spotify': 'https://open.sp...\n",
       "9     {'external_urls': {'spotify': 'https://open.sp...\n",
       "10    {'external_urls': {'spotify': 'https://open.sp...\n",
       "11    {'external_urls': {'spotify': 'https://open.sp...\n",
       "12    {'external_urls': {'spotify': 'https://open.sp...\n",
       "13    {'external_urls': {'spotify': 'https://open.sp...\n",
       "14    {'external_urls': {'spotify': 'https://open.sp...\n",
       "15    {'external_urls': {'spotify': 'https://open.sp...\n",
       "16    {'external_urls': {'spotify': 'https://open.sp...\n",
       "17    {'external_urls': {'spotify': 'https://open.sp...\n",
       "18    {'external_urls': {'spotify': 'https://open.sp...\n",
       "19    {'external_urls': {'spotify': 'https://open.sp...\n",
       "20    {'external_urls': {'spotify': 'https://open.sp...\n",
       "21    {'external_urls': {'spotify': 'https://open.sp...\n",
       "22    {'external_urls': {'spotify': 'https://open.sp...\n",
       "23    {'external_urls': {'spotify': 'https://open.sp...\n",
       "Name: artist_info, dtype: object"
      ]
     },
     "execution_count": 40,
     "metadata": {},
     "output_type": "execute_result"
    }
   ],
   "source": [
    "artist_info_df = pd.DataFrame()\n",
    "list_artist_info = []\n",
    "for artist in artists:\n",
    "    result = sp.search(artist, limit=1, type=\"artist\")\n",
    "    artist_info = result[\"artists\"][\"items\"][0]\n",
    "    # Display genres associated with the first search result\n",
    "    list_artist_info.append(artist_info)\n",
    "\n",
    "artist_info_df['artist'] = artists\n",
    "artist_info_df['artist_info'] = list_artist_info\n",
    "\n",
    "artist_info_df['artist_info']"
   ]
  },
  {
   "cell_type": "code",
   "execution_count": 41,
   "metadata": {},
   "outputs": [],
   "source": [
    "audio_features_df.to_excel('./data/audio_features.xlsx', index=False)\n",
    "artist_info_df.to_excel('./data/artist_info.xlsx', index=False)"
   ]
  }
 ],
 "metadata": {
  "kernelspec": {
   "display_name": "Python 3",
   "language": "python",
   "name": "python3"
  },
  "language_info": {
   "codemirror_mode": {
    "name": "ipython",
    "version": 3
   },
   "file_extension": ".py",
   "mimetype": "text/x-python",
   "name": "python",
   "nbconvert_exporter": "python",
   "pygments_lexer": "ipython3",
   "version": "3.11.5"
  },
  "orig_nbformat": 4
 },
 "nbformat": 4,
 "nbformat_minor": 2
}
